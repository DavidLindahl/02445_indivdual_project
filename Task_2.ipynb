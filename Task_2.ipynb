{
 "cells": [
  {
   "cell_type": "code",
   "execution_count": 6,
   "metadata": {},
   "outputs": [],
   "source": [
    "import pandas as pd\n",
    "import numpy as np\n",
    "import matplotlib.pyplot as plt"
   ]
  },
  {
   "cell_type": "markdown",
   "metadata": {},
   "source": [
    "# Looking at data\n"
   ]
  },
  {
   "cell_type": "code",
   "execution_count": 7,
   "metadata": {},
   "outputs": [],
   "source": [
    "# Import the data\n",
    "filepath = \"/Users/davidlindahl/Documents/DTU/02445/Individual_assignment/HR_data.csv\"\n",
    "df = pd.read_csv(filepath).drop(columns=[\"Unnamed: 0\" , \"Puzzler\"])"
   ]
  },
  {
   "cell_type": "markdown",
   "metadata": {},
   "source": [
    "For making the models, we first binarize frustrated, to make it more easy to predict.\n"
   ]
  },
  {
   "cell_type": "code",
   "execution_count": 8,
   "metadata": {},
   "outputs": [],
   "source": [
    "# Adding Frustrated binary\n",
    "threshold_value = 2\n",
    "df['Frustrated Binary'] = np.where(df['Frustrated']>= threshold_value,1,0)\n",
    "\n",
    "# Making a histogram of the data\n",
    "# df.hist(bins=50, figsize=(20,15))\n",
    "# plt.tight_layout()\n",
    "# plt.savefig('/Users/davidlindahl/Documents/DTU/02445/Individual_assignment/Photos/histogram.png')"
   ]
  },
  {
   "cell_type": "markdown",
   "metadata": {},
   "source": [
    "Now we make our models"
   ]
  },
  {
   "cell_type": "code",
   "execution_count": 9,
   "metadata": {},
   "outputs": [
    {
     "data": {
      "text/plain": [
       "np.int64(74)"
      ]
     },
     "execution_count": 9,
     "metadata": {},
     "output_type": "execute_result"
    }
   ],
   "source": [
    "# Import the models\n",
    "from sklearn.tree import DecisionTreeClassifier\n",
    "from sklearn.linear_model import LogisticRegression\n",
    "from sklearn.neural_network import MLPClassifier\n",
    "from sklearn.model_selection import cross_val_score\n",
    "from sklearn.dummy import DummyClassifier\n",
    "from sklearn.ensemble import RandomForestClassifier ,StackingClassifier , GradientBoostingClassifier\n",
    "\n",
    "# Setup dictionary with models\n",
    "models = {'Decision tree': DecisionTreeClassifier(),\n",
    "          'ANN':MLPClassifier(hidden_layer_sizes=(100,) , activation='relu' , max_iter=300),\n",
    "          'Baseline':DummyClassifier(strategy='most_frequent'),\n",
    "          'RF': RandomForestClassifier(),\n",
    "          'Logistic Regression': LogisticRegression()}\n",
    "\n",
    "# Encode the data\n",
    "df_encoded = df.copy()\n",
    "df_encoded = pd.get_dummies(df_encoded)  # Encode categorical variables\n",
    "df_encoded\n",
    "\n",
    "# Setup X and y\n",
    "y = df_encoded['Frustrated Binary']\n",
    "X = df_encoded[['HR_Median' , 'HR_std' , 'HR_Max' , 'HR_AUC' , 'HR_Min' , 'HR_Mean']]\n",
    "# X = df_encoded.iloc[:,14:16]\n",
    "len(df) - y.sum()\n"
   ]
  },
  {
   "cell_type": "markdown",
   "metadata": {},
   "source": [
    "# Plotting things"
   ]
  },
  {
   "cell_type": "code",
   "execution_count": 10,
   "metadata": {},
   "outputs": [],
   "source": [
    "# import seaborn as sns\n",
    "\n",
    "# # Calculate the correlation matrix\n",
    "# corr_matrix = X.join(df_encoded['Frustrated']).corr()\n",
    "\n",
    "# # Set the style and context to make the plot look more professional\n",
    "# sns.set(style=\"white\", context=\"talk\")\n",
    "\n",
    "# # Create a heatmap for the correlation matrix\n",
    "# plt.figure(figsize=(12, 10))\n",
    "# heatmap = sns.heatmap(corr_matrix, annot=True, fmt=\".2f\", cmap=\"coolwarm\", vmin=-1, vmax=1, cbar_kws={\"shrink\": .8})\n",
    "\n",
    "# # Add title and labels\n",
    "# heatmap.set_title('Correlation Matrix', fontdict={'fontsize': 18}, pad=16)\n",
    "# plt.xticks(fontsize=12)\n",
    "# plt.yticks(fontsize=12)\n",
    "# plt.tight_layout()\n",
    "\n",
    "# # Save the heatmap as a high-resolution image\n",
    "# plt.savefig('/Users/davidlindahl/Documents/DTU/02445/Individual_assignment/Photos/correlation_matrix_heatmap.png', dpi=300)\n",
    "\n",
    "# # Create the pairplot\n",
    "# pairplot = sns.pairplot(X.join(df_encoded['Frustrated']), diag_kind=\"kde\", plot_kws={'alpha':0.5, 's':40, 'edgecolor':'k'}, diag_kws={'shade':True})\n",
    "\n",
    "# # Customize the pairplot\n",
    "# pairplot.fig.suptitle('Pairwise Relationships', y=1.02, fontsize=18)\n",
    "# pairplot.fig.tight_layout()\n",
    "\n",
    "# # Save the pairplot as a high-resolution image\n",
    "# pairplot.savefig(dpi=300 ,fname='/Users/davidlindahl/Documents/DTU/02445/Individual_assignment/Photos/pairwise_relationships.png')\n",
    "\n",
    "# # Show the plots\n",
    "# plt.show()\n"
   ]
  },
  {
   "cell_type": "markdown",
   "metadata": {},
   "source": [
    "# Feature selection"
   ]
  },
  {
   "cell_type": "markdown",
   "metadata": {},
   "source": [
    "We can see from the above correlation matrix, that the mean and the median have a correlation of 95. Therefore removing one of these attributes could prove useful, since they are vey close to the same.\n",
    "\n",
    "Whend doing this we also see, that the accuracy increases.\n"
   ]
  },
  {
   "cell_type": "markdown",
   "metadata": {},
   "source": [
    "# Training the models and evaluating"
   ]
  },
  {
   "cell_type": "code",
   "execution_count": 11,
   "metadata": {},
   "outputs": [
    {
     "name": "stderr",
     "output_type": "stream",
     "text": [
      "/Users/davidlindahl/Documents/DTU/02445/02445---LLMs-Project/.venv/lib/python3.11/site-packages/sklearn/linear_model/_logistic.py:469: ConvergenceWarning: lbfgs failed to converge (status=1):\n",
      "STOP: TOTAL NO. of ITERATIONS REACHED LIMIT.\n",
      "\n",
      "Increase the number of iterations (max_iter) or scale the data as shown in:\n",
      "    https://scikit-learn.org/stable/modules/preprocessing.html\n",
      "Please also refer to the documentation for alternative solver options:\n",
      "    https://scikit-learn.org/stable/modules/linear_model.html#logistic-regression\n",
      "  n_iter_i = _check_optimize_result(\n",
      "/Users/davidlindahl/Documents/DTU/02445/02445---LLMs-Project/.venv/lib/python3.11/site-packages/sklearn/linear_model/_logistic.py:469: ConvergenceWarning: lbfgs failed to converge (status=1):\n",
      "STOP: TOTAL NO. of ITERATIONS REACHED LIMIT.\n",
      "\n",
      "Increase the number of iterations (max_iter) or scale the data as shown in:\n",
      "    https://scikit-learn.org/stable/modules/preprocessing.html\n",
      "Please also refer to the documentation for alternative solver options:\n",
      "    https://scikit-learn.org/stable/modules/linear_model.html#logistic-regression\n",
      "  n_iter_i = _check_optimize_result(\n",
      "/Users/davidlindahl/Documents/DTU/02445/02445---LLMs-Project/.venv/lib/python3.11/site-packages/sklearn/linear_model/_logistic.py:469: ConvergenceWarning: lbfgs failed to converge (status=1):\n",
      "STOP: TOTAL NO. of ITERATIONS REACHED LIMIT.\n",
      "\n",
      "Increase the number of iterations (max_iter) or scale the data as shown in:\n",
      "    https://scikit-learn.org/stable/modules/preprocessing.html\n",
      "Please also refer to the documentation for alternative solver options:\n",
      "    https://scikit-learn.org/stable/modules/linear_model.html#logistic-regression\n",
      "  n_iter_i = _check_optimize_result(\n",
      "/Users/davidlindahl/Documents/DTU/02445/02445---LLMs-Project/.venv/lib/python3.11/site-packages/sklearn/linear_model/_logistic.py:469: ConvergenceWarning: lbfgs failed to converge (status=1):\n",
      "STOP: TOTAL NO. of ITERATIONS REACHED LIMIT.\n",
      "\n",
      "Increase the number of iterations (max_iter) or scale the data as shown in:\n",
      "    https://scikit-learn.org/stable/modules/preprocessing.html\n",
      "Please also refer to the documentation for alternative solver options:\n",
      "    https://scikit-learn.org/stable/modules/linear_model.html#logistic-regression\n",
      "  n_iter_i = _check_optimize_result(\n",
      "/Users/davidlindahl/Documents/DTU/02445/02445---LLMs-Project/.venv/lib/python3.11/site-packages/sklearn/linear_model/_logistic.py:469: ConvergenceWarning: lbfgs failed to converge (status=1):\n",
      "STOP: TOTAL NO. of ITERATIONS REACHED LIMIT.\n",
      "\n",
      "Increase the number of iterations (max_iter) or scale the data as shown in:\n",
      "    https://scikit-learn.org/stable/modules/preprocessing.html\n",
      "Please also refer to the documentation for alternative solver options:\n",
      "    https://scikit-learn.org/stable/modules/linear_model.html#logistic-regression\n",
      "  n_iter_i = _check_optimize_result(\n",
      "/Users/davidlindahl/Documents/DTU/02445/02445---LLMs-Project/.venv/lib/python3.11/site-packages/sklearn/linear_model/_logistic.py:469: ConvergenceWarning: lbfgs failed to converge (status=1):\n",
      "STOP: TOTAL NO. of ITERATIONS REACHED LIMIT.\n",
      "\n",
      "Increase the number of iterations (max_iter) or scale the data as shown in:\n",
      "    https://scikit-learn.org/stable/modules/preprocessing.html\n",
      "Please also refer to the documentation for alternative solver options:\n",
      "    https://scikit-learn.org/stable/modules/linear_model.html#logistic-regression\n",
      "  n_iter_i = _check_optimize_result(\n",
      "/Users/davidlindahl/Documents/DTU/02445/02445---LLMs-Project/.venv/lib/python3.11/site-packages/sklearn/linear_model/_logistic.py:469: ConvergenceWarning: lbfgs failed to converge (status=1):\n",
      "STOP: TOTAL NO. of ITERATIONS REACHED LIMIT.\n",
      "\n",
      "Increase the number of iterations (max_iter) or scale the data as shown in:\n",
      "    https://scikit-learn.org/stable/modules/preprocessing.html\n",
      "Please also refer to the documentation for alternative solver options:\n",
      "    https://scikit-learn.org/stable/modules/linear_model.html#logistic-regression\n",
      "  n_iter_i = _check_optimize_result(\n",
      "/Users/davidlindahl/Documents/DTU/02445/02445---LLMs-Project/.venv/lib/python3.11/site-packages/sklearn/linear_model/_logistic.py:469: ConvergenceWarning: lbfgs failed to converge (status=1):\n",
      "STOP: TOTAL NO. of ITERATIONS REACHED LIMIT.\n",
      "\n",
      "Increase the number of iterations (max_iter) or scale the data as shown in:\n",
      "    https://scikit-learn.org/stable/modules/preprocessing.html\n",
      "Please also refer to the documentation for alternative solver options:\n",
      "    https://scikit-learn.org/stable/modules/linear_model.html#logistic-regression\n",
      "  n_iter_i = _check_optimize_result(\n",
      "/Users/davidlindahl/Documents/DTU/02445/02445---LLMs-Project/.venv/lib/python3.11/site-packages/sklearn/linear_model/_logistic.py:469: ConvergenceWarning: lbfgs failed to converge (status=1):\n",
      "STOP: TOTAL NO. of ITERATIONS REACHED LIMIT.\n",
      "\n",
      "Increase the number of iterations (max_iter) or scale the data as shown in:\n",
      "    https://scikit-learn.org/stable/modules/preprocessing.html\n",
      "Please also refer to the documentation for alternative solver options:\n",
      "    https://scikit-learn.org/stable/modules/linear_model.html#logistic-regression\n",
      "  n_iter_i = _check_optimize_result(\n",
      "/Users/davidlindahl/Documents/DTU/02445/02445---LLMs-Project/.venv/lib/python3.11/site-packages/sklearn/linear_model/_logistic.py:469: ConvergenceWarning: lbfgs failed to converge (status=1):\n",
      "STOP: TOTAL NO. of ITERATIONS REACHED LIMIT.\n",
      "\n",
      "Increase the number of iterations (max_iter) or scale the data as shown in:\n",
      "    https://scikit-learn.org/stable/modules/preprocessing.html\n",
      "Please also refer to the documentation for alternative solver options:\n",
      "    https://scikit-learn.org/stable/modules/linear_model.html#logistic-regression\n",
      "  n_iter_i = _check_optimize_result(\n",
      "/Users/davidlindahl/Documents/DTU/02445/02445---LLMs-Project/.venv/lib/python3.11/site-packages/sklearn/linear_model/_logistic.py:469: ConvergenceWarning: lbfgs failed to converge (status=1):\n",
      "STOP: TOTAL NO. of ITERATIONS REACHED LIMIT.\n",
      "\n",
      "Increase the number of iterations (max_iter) or scale the data as shown in:\n",
      "    https://scikit-learn.org/stable/modules/preprocessing.html\n",
      "Please also refer to the documentation for alternative solver options:\n",
      "    https://scikit-learn.org/stable/modules/linear_model.html#logistic-regression\n",
      "  n_iter_i = _check_optimize_result(\n",
      "/Users/davidlindahl/Documents/DTU/02445/02445---LLMs-Project/.venv/lib/python3.11/site-packages/sklearn/linear_model/_logistic.py:469: ConvergenceWarning: lbfgs failed to converge (status=1):\n",
      "STOP: TOTAL NO. of ITERATIONS REACHED LIMIT.\n",
      "\n",
      "Increase the number of iterations (max_iter) or scale the data as shown in:\n",
      "    https://scikit-learn.org/stable/modules/preprocessing.html\n",
      "Please also refer to the documentation for alternative solver options:\n",
      "    https://scikit-learn.org/stable/modules/linear_model.html#logistic-regression\n",
      "  n_iter_i = _check_optimize_result(\n",
      "/Users/davidlindahl/Documents/DTU/02445/02445---LLMs-Project/.venv/lib/python3.11/site-packages/sklearn/linear_model/_logistic.py:469: ConvergenceWarning: lbfgs failed to converge (status=1):\n",
      "STOP: TOTAL NO. of ITERATIONS REACHED LIMIT.\n",
      "\n",
      "Increase the number of iterations (max_iter) or scale the data as shown in:\n",
      "    https://scikit-learn.org/stable/modules/preprocessing.html\n",
      "Please also refer to the documentation for alternative solver options:\n",
      "    https://scikit-learn.org/stable/modules/linear_model.html#logistic-regression\n",
      "  n_iter_i = _check_optimize_result(\n",
      "/Users/davidlindahl/Documents/DTU/02445/02445---LLMs-Project/.venv/lib/python3.11/site-packages/sklearn/linear_model/_logistic.py:469: ConvergenceWarning: lbfgs failed to converge (status=1):\n",
      "STOP: TOTAL NO. of ITERATIONS REACHED LIMIT.\n",
      "\n",
      "Increase the number of iterations (max_iter) or scale the data as shown in:\n",
      "    https://scikit-learn.org/stable/modules/preprocessing.html\n",
      "Please also refer to the documentation for alternative solver options:\n",
      "    https://scikit-learn.org/stable/modules/linear_model.html#logistic-regression\n",
      "  n_iter_i = _check_optimize_result(\n"
     ]
    },
    {
     "data": {
      "text/plain": [
       "{'Decision tree': [0.3333333333333333,\n",
       "  0.5833333333333334,\n",
       "  0.25,\n",
       "  0.6666666666666666,\n",
       "  0.5833333333333334,\n",
       "  0.5,\n",
       "  0.5,\n",
       "  0.5,\n",
       "  0.5,\n",
       "  0.4166666666666667,\n",
       "  0.5,\n",
       "  0.4166666666666667,\n",
       "  0.25,\n",
       "  0.6666666666666666],\n",
       " 'ANN': [1.0,\n",
       "  0.9166666666666666,\n",
       "  0.8333333333333334,\n",
       "  0.75,\n",
       "  0.25,\n",
       "  0.75,\n",
       "  0.75,\n",
       "  0.4166666666666667,\n",
       "  0.16666666666666666,\n",
       "  0.6666666666666666,\n",
       "  0.5833333333333334,\n",
       "  0.4166666666666667,\n",
       "  0.4166666666666667,\n",
       "  0.4166666666666667],\n",
       " 'Baseline': [1.0,\n",
       "  0.9166666666666666,\n",
       "  0.16666666666666666,\n",
       "  0.75,\n",
       "  0.75,\n",
       "  0.75,\n",
       "  0.75,\n",
       "  0.25,\n",
       "  0.16666666666666666,\n",
       "  0.3333333333333333,\n",
       "  0.5833333333333334,\n",
       "  0.4166666666666667,\n",
       "  0.5833333333333334,\n",
       "  0.4166666666666667],\n",
       " 'RF': [0.3333333333333333,\n",
       "  0.5833333333333334,\n",
       "  0.16666666666666666,\n",
       "  0.6666666666666666,\n",
       "  0.6666666666666666,\n",
       "  0.5833333333333334,\n",
       "  0.5833333333333334,\n",
       "  0.5,\n",
       "  0.6666666666666666,\n",
       "  0.4166666666666667,\n",
       "  0.6666666666666666,\n",
       "  0.5833333333333334,\n",
       "  0.5,\n",
       "  0.75],\n",
       " 'Logistic Regression': [0.3333333333333333,\n",
       "  0.9166666666666666,\n",
       "  0.16666666666666666,\n",
       "  0.5,\n",
       "  0.75,\n",
       "  0.5,\n",
       "  0.8333333333333334,\n",
       "  0.5,\n",
       "  0.5,\n",
       "  0.25,\n",
       "  0.75,\n",
       "  0.5,\n",
       "  0.5,\n",
       "  0.3333333333333333]}"
      ]
     },
     "execution_count": 11,
     "metadata": {},
     "output_type": "execute_result"
    }
   ],
   "source": [
    "# from sklearn.model_selection import GroupKFold\n",
    "from sklearn.model_selection import StratifiedGroupKFold\n",
    "# Initialize the model_accuracies dictionary\n",
    "model_accuracies = {model_name:[] for model_name in models.keys()}\n",
    "\n",
    "# Setup the group variable\n",
    "group = df['Individual']\n",
    "\n",
    "# Initialize the GroupKFold\n",
    "group_kfold = StratifiedGroupKFold(n_splits=14)\n",
    "\n",
    "# Now for training the model and evaluating them\n",
    "for train_index , _test_index in group_kfold.split(X , y , groups=group):\n",
    "    # Splitting the data\n",
    "    X_train , X_test = X.iloc[train_index] , X.iloc[_test_index]\n",
    "    y_train , y_test = y.iloc[train_index] , y.iloc[_test_index]\n",
    "\n",
    "    for model_name, model in models.items():\n",
    "        # Fitting the model\n",
    "        model.fit(X_train , y_train)\n",
    "        # print(f'{model_name} : {model.score(X_test , y_test)}')\n",
    "        score = model.score(X_test,y_test)\n",
    "        model_accuracies[model_name].append(score) \n",
    "model_accuracies"
   ]
  },
  {
   "cell_type": "markdown",
   "metadata": {},
   "source": [
    "# Calculating CI\n"
   ]
  },
  {
   "cell_type": "code",
   "execution_count": 12,
   "metadata": {},
   "outputs": [
    {
     "name": "stdout",
     "output_type": "stream",
     "text": [
      "{'Decision tree': [np.float64(0.40476190476190477), np.float64(0.5416666666666667)], 'ANN': [np.float64(0.4642857142857144), np.float64(0.7202380952380952)], 'Baseline': [np.float64(0.4226190476190476), np.float64(0.6964285714285714)], 'RF': [np.float64(0.4642857142857143), np.float64(0.6190476190476192)], 'Logistic Regression': [np.float64(0.41666666666666663), np.float64(0.6369047619047619)]}\n",
      "{'Decision tree': np.float64(0.4762630952380953), 'ANN': np.float64(0.595992261904762), 'Baseline': np.float64(0.5598053571428572), 'RF': np.float64(0.5479315476190477), 'Logistic Regression': np.float64(0.5233232142857143)}\n"
     ]
    }
   ],
   "source": [
    "# Initialize the CI\n",
    "CI = {model_name: [] for model_name in models.keys()}\n",
    "accuacies_bootstrap = {model_name : 0 for model_name in models.keys()}\n",
    "# Number of bootstrap simulations\n",
    "num_simulations = 10000\n",
    "\n",
    "for model_name, accuracy_list in model_accuracies.items():\n",
    "    # Create bootstrap samples\n",
    "    bootstrap_estimates = np.random.choice(accuracy_list, size=(num_simulations, len(accuracy_list)), replace=True)\n",
    "    \n",
    "    # Calculate the mean of each bootstrap sample\n",
    "    bootstrap_means = np.mean(bootstrap_estimates, axis=1)\n",
    "\n",
    "    # Finding the mean accuracy:\n",
    "    accuacies_bootstrap[model_name] = np.mean(bootstrap_estimates)\n",
    "    \n",
    "    # Find the quantiles\n",
    "    lower_index = int(num_simulations * 0.025)\n",
    "    upper_index = int(num_simulations * 0.975)\n",
    "\n",
    "    # Find the lower and upper bound\n",
    "    lower_bound = np.sort(bootstrap_means)[lower_index]\n",
    "    upper_bound = np.sort(bootstrap_means)[upper_index]\n",
    "\n",
    "    # Store the confidence interval\n",
    "    CI[model_name] = [lower_bound, upper_bound]\n",
    "\n",
    "print(CI)\n",
    "print(accuacies_bootstrap)"
   ]
  },
  {
   "cell_type": "markdown",
   "metadata": {},
   "source": [
    "# EVALUATING THE MODEL: ANOVA\n",
    "We will be performing a one-way ANOVA, since we have 3 classifiers trained on the same dataset."
   ]
  },
  {
   "cell_type": "markdown",
   "metadata": {},
   "source": [
    "## ANOVA: ASSUMPTIONS:\n",
    "### FIRST: Normality assumptions\n",
    "\n",
    "This is checked via Shapiro Wilk's test.\n",
    "\n",
    "The Shapiro-Wilk test checks if the data is normally distributed. If the p-value is greater than 0.05, we fail to reject the null hypothesis, indicating that the data is normally distributed.\n"
   ]
  },
  {
   "cell_type": "code",
   "execution_count": 13,
   "metadata": {},
   "outputs": [
    {
     "name": "stdout",
     "output_type": "stream",
     "text": [
      "Shapiro-Wilk Test p-value for Decision tree: 0.24190385620309499\n",
      "Shapiro-Wilk Test p-value for ANN: 0.5699287992892889\n",
      "Shapiro-Wilk Test p-value for Baseline: 0.37155857632769945\n",
      "Shapiro-Wilk Test p-value for RF: 0.07386445461065477\n",
      "Shapiro-Wilk Test p-value for Logistic Regression: 0.2791896190180449\n"
     ]
    }
   ],
   "source": [
    "from scipy import stats\n",
    "# Convert to arrays for easier handling\n",
    "decision_tree = np.array(model_accuracies['Decision tree'])\n",
    "baseline = np.array(model_accuracies['Baseline'])\n",
    "logistic_regression = np.array(model_accuracies['Logistic Regression'])\n",
    "\n",
    "# 1. Assumption of Normality\n",
    "# Use Shapiro-Wilk test for normality\n",
    "for model_name, model_ac in model_accuracies.items():\n",
    "    shapiro_test = stats.shapiro(model_ac)\n",
    "    print(f\"Shapiro-Wilk Test p-value for {model_name}: {shapiro_test[1]}\")\n"
   ]
  },
  {
   "cell_type": "markdown",
   "metadata": {},
   "source": [
    "And also including qq plots to check for normality."
   ]
  },
  {
   "cell_type": "code",
   "execution_count": 17,
   "metadata": {},
   "outputs": [
    {
     "data": {
      "image/png": "[encoded data removed]",
      "text/plain": [
       "<Figure size 1500x300 with 5 Axes>"
      ]
     },
     "metadata": {},
     "output_type": "display_data"
    }
   ],
   "source": [
    "import statsmodels.api as sm\n",
    "\n",
    "# Create figure and axes\n",
    "fig, axes = plt.subplots(1, len(model_accuracies), figsize=(15, 3))\n",
    "\n",
    "# Iterate through models and create QQ-plots\n",
    "for ax, (model_name, model_ac) in zip(axes, model_accuracies.items()):\n",
    "    sm.qqplot(np.array(model_ac), line='r', ax=ax)\n",
    "    ax.set_title(model_name)\n",
    "    ax.set_xlabel('Theoretical Quantiles')\n",
    "    ax.set_ylabel('Sample Quantiles')\n",
    "\n",
    "# Adjust layout\n",
    "plt.tight_layout()\n",
    "plt.savefig('/Users/davidlindahl/Documents/DTU/02445/Individual_assignment/Photos/QQ_plots.png')\n",
    "plt.show()"
   ]
  },
  {
   "cell_type": "markdown",
   "metadata": {},
   "source": [
    "## 2 Homogeneity of variance: Levene’s test,\n",
    "This is checked via Levene's test.\n"
   ]
  },
  {
   "cell_type": "code",
   "execution_count": 15,
   "metadata": {},
   "outputs": [
    {
     "name": "stdout",
     "output_type": "stream",
     "text": [
      "Levene's Test p-value: 0.02036966153469704\n"
     ]
    }
   ],
   "source": [
    "# 2. Assumption of Homogeneity of Variances\n",
    "# Get the model_ac numpy array\n",
    "model_ac = []\n",
    "for model_name , model_acc in model_accuracies.items():\n",
    "    model_ac.append(model_acc)\n",
    "model_ac = np.array(model_ac)\n",
    "\n",
    "# Use Levene's test for homogeneity of variances\n",
    "levene = stats.levene(*model_ac)\n",
    "print(f\"Levene's Test p-value: {levene.pvalue}\")\n"
   ]
  },
  {
   "cell_type": "markdown",
   "metadata": {},
   "source": [
    "## 3 Independende of observations:\n",
    "This is checked via the chi-squared test."
   ]
  },
  {
   "cell_type": "code",
   "execution_count": 37,
   "metadata": {},
   "outputs": [
    {
     "name": "stdout",
     "output_type": "stream",
     "text": [
      "               Anova\n",
      "===================================\n",
      "      F Value Num DF  Den DF Pr > F\n",
      "-----------------------------------\n",
      "model  0.7713 4.0000 52.0000 0.5488\n",
      "===================================\n",
      "\n"
     ]
    }
   ],
   "source": [
    "import pandas as pd\n",
    "import statsmodels.api as sm\n",
    "from statsmodels.stats.anova import AnovaRM\n",
    "\n",
    "# Create a DataFrame\n",
    "df_ac = pd.DataFrame(model_accuracies)\n",
    "\n",
    "# Add a 'subject' column to identify each subject\n",
    "df_ac['Fold'] = range(1, len(df_ac) + 1)\n",
    "\n",
    "# Melt the DataFrame to long format\n",
    "df_long = pd.melt(df_ac, id_vars=['Fold'], var_name='model', value_name='accuracy')\n",
    "\n",
    "# Fit the repeated measures ANOVA model\n",
    "aovrm = AnovaRM(df_long, 'accuracy', 'Fold', within=['model'])\n",
    "res = aovrm.fit()\n",
    "\n",
    "# Print the ANOVA table\n",
    "print(res)"
   ]
  },
  {
   "cell_type": "markdown",
   "metadata": {},
   "source": [
    "Since the chi-squared test's p-value is 1.0, we fail to reject the null hypothesis, indicating that the data is independent."
   ]
  },
  {
   "cell_type": "code",
   "execution_count": null,
   "metadata": {},
   "outputs": [
    {
     "name": "stdout",
     "output_type": "stream",
     "text": [
      "The p-value is 0.6378 and the statistic is 0.637\n"
     ]
    }
   ],
   "source": [
    "# Performing one way ANOVA\n",
    "from scipy.stats import f_oneway\n",
    "statistic , p_value = f_oneway(*[model_accuracies[model_name] for model_name in models.keys()])\n",
    "print(f'The p-value is {round(p_value,4)} and the statistic is {round(statistic,3)}')\n"
   ]
  },
  {
   "cell_type": "markdown",
   "metadata": {},
   "source": [
    "Since the p-value is 0.9867, we can conclude that there is no significant difference between the classifiers."
   ]
  }
 ],
 "metadata": {
  "kernelspec": {
   "display_name": "Python 3",
   "language": "python",
   "name": "python3"
  },
  "language_info": {
   "codemirror_mode": {
    "name": "ipython",
    "version": 3
   },
   "file_extension": ".py",
   "mimetype": "text/x-python",
   "name": "python",
   "nbconvert_exporter": "python",
   "pygments_lexer": "ipython3",
   "version": "3.11.5"
  },
  "orig_nbformat": 4
 },
 "nbformat": 4,
 "nbformat_minor": 2
}
